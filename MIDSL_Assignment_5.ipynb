{
 "cells": [
  {
   "cell_type": "markdown",
   "id": "40472c36",
   "metadata": {},
   "source": [
    "<!-- Assignment 5: We have given a collection of 8 points. \n",
    "P1=[0.1,0.6] \n",
    "P2=[0.15,0.71] \n",
    "P3=[0.08,0.9] \n",
    "P4=[0.16, 0.85] \n",
    "P5=[0.2,0.3] \n",
    "P6=[0.25,0.5] \n",
    "P7=[0.24,0.1] \n",
    "P8=[0.3,0.2]\n",
    "Perform the k-mean clustering with initial centroids as m1=P1 =Cluster#1=C1 and \n",
    "m2=P8=cluster#2=C2. \n",
    "Answer the following \n",
    "1] Which cluster does P6 belong to?\n",
    "2] What is the population of cluster around m2? \n",
    "3] What is updated value of m1 and m2? -->"
   ]
  },
  {
   "cell_type": "code",
   "execution_count": 2,
   "id": "3fb43c25",
   "metadata": {},
   "outputs": [],
   "source": [
    "# Assignment 5: We have given a collection of 8 points. \n",
    "# P1=[0.1,0.6] \n",
    "# P2=[0.15,0.71] \n",
    "# P3=[0.08,0.9] \n",
    "# P4=[0.16, 0.85] \n",
    "# P5=[0.2,0.3] \n",
    "# P6=[0.25,0.5] \n",
    "# P7=[0.24,0.1] \n",
    "# P8=[0.3,0.2]\n",
    "# Perform the k-mean clustering with initial centroids as m1=P1 =Cluster#1=C1 and \n",
    "# m2=P8=cluster#2=C2. \n",
    "# Answer the following \n",
    "# 1] Which cluster does P6 belong to? \n",
    "# 2] What is the population of cluster around m2? \n",
    "# 3] What is updated value of m1 and m2?"
   ]
  },
  {
   "cell_type": "code",
   "execution_count": 8,
   "id": "43e08111",
   "metadata": {},
   "outputs": [
    {
     "name": "stdout",
     "output_type": "stream",
     "text": [
      "Which cluster does P6 belong to? C1\n"
     ]
    },
    {
     "name": "stderr",
     "output_type": "stream",
     "text": [
      "C:\\ProgramData\\Anaconda3\\lib\\site-packages\\sklearn\\cluster\\_kmeans.py:984: RuntimeWarning: Explicit initial center position passed: performing only one init in KMeans instead of n_init=10.\n",
      "  self._check_params(X)\n"
     ]
    }
   ],
   "source": [
    "from sklearn.cluster import KMeans\n",
    "import numpy as np\n",
    "\n",
    "# Given points\n",
    "points = np.array([[0.1, 0.6],\n",
    "                   [0.15, 0.71],\n",
    "                   [0.08, 0.9],\n",
    "                   [0.16, 0.85],\n",
    "                   [0.2, 0.3],\n",
    "                   [0.25, 0.5],\n",
    "                   [0.24, 0.1],\n",
    "                   [0.3, 0.2]])\n",
    "\n",
    "# Initial centroids\n",
    "centroid1 = np.array([0.1, 0.6])  # P1\n",
    "centroid2 = np.array([0.3, 0.2])  # P8\n",
    "\n",
    "# Initialize KMeans with 2 clusters and initial centroids\n",
    "kmeans = KMeans(n_clusters=2, init=np.array([centroid1, centroid2]))\n",
    "\n",
    "# Fit KMeans to the data\n",
    "kmeans.fit(points)\n",
    "\n",
    "# Point P6=[0.25, 0.5]\n",
    "point_to_classify = np.array([[0.25, 0.5]])\n",
    "\n",
    "# Predict cluster for the point\n",
    "predicted_cluster = kmeans.predict(point_to_classify)\n",
    "\n",
    "# Determine cluster label\n",
    "if predicted_cluster == 0:\n",
    "    cluster_for_point = \"C1\"\n",
    "else:\n",
    "    cluster_for_point = \"C2\"\n",
    "\n",
    "print(\"Which cluster does P6 belong to?\", cluster_for_point)"
   ]
  },
  {
   "cell_type": "code",
   "execution_count": 6,
   "id": "0c93b9ff",
   "metadata": {},
   "outputs": [
    {
     "name": "stdout",
     "output_type": "stream",
     "text": [
      "Population of cluster around m2: 3\n"
     ]
    }
   ],
   "source": [
    "# Count the number of points in cluster C2\n",
    "population_m2 = np.sum(kmeans.labels_ == 1)\n",
    "\n",
    "print(\"Population of cluster around m2:\", population_m2)"
   ]
  },
  {
   "cell_type": "code",
   "execution_count": 5,
   "id": "039d063f",
   "metadata": {},
   "outputs": [
    {
     "name": "stdout",
     "output_type": "stream",
     "text": [
      "Updated value of m1: [0.148 0.712]\n",
      "Updated value of m2: [0.24666667 0.2       ]\n"
     ]
    }
   ],
   "source": [
    "# Updated centroids\n",
    "updated_centroids = kmeans.cluster_centers_\n",
    "\n",
    "# Separate updated values of m1 and m2\n",
    "updated_m1 = updated_centroids[0]\n",
    "updated_m2 = updated_centroids[1]\n",
    "\n",
    "print(\"Updated value of m1:\", updated_m1)\n",
    "print(\"Updated value of m2:\", updated_m2)"
   ]
  }
 ],
 "metadata": {
  "kernelspec": {
   "display_name": "Python 3 (ipykernel)",
   "language": "python",
   "name": "python3"
  },
  "language_info": {
   "codemirror_mode": {
    "name": "ipython",
    "version": 3
   },
   "file_extension": ".py",
   "mimetype": "text/x-python",
   "name": "python",
   "nbconvert_exporter": "python",
   "pygments_lexer": "ipython3",
   "version": "3.9.7"
  }
 },
 "nbformat": 4,
 "nbformat_minor": 5
}
