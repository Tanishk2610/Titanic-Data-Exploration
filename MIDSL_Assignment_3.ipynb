{
 "cells": [
  {
   "cell_type": "code",
   "execution_count": 1,
   "id": "b7de432a",
   "metadata": {},
   "outputs": [
    {
     "name": "stderr",
     "output_type": "stream",
     "text": [
      "C:\\ProgramData\\Anaconda3\\lib\\site-packages\\scipy\\__init__.py:146: UserWarning: A NumPy version >=1.16.5 and <1.23.0 is required for this version of SciPy (detected version 1.26.4\n",
      "  warnings.warn(f\"A NumPy version >={np_minversion} and <{np_maxversion}\"\n"
     ]
    },
    {
     "name": "stdout",
     "output_type": "stream",
     "text": [
      "Accuracy: 0.0\n",
      "Predicted sentiment: Positive\n"
     ]
    }
   ],
   "source": [
    "import numpy as np\n",
    "from sklearn.feature_extraction.text import CountVectorizer\n",
    "from sklearn.model_selection import train_test_split\n",
    "from sklearn.linear_model import LogisticRegression\n",
    "from sklearn.metrics import accuracy_score\n",
    "\n",
    "# Sample polarity words\n",
    "positive_words = [\"good\", \"great\", \"excellent\", \"awesome\", \"love\", \"happy\"]\n",
    "negative_words = [\"bad\", \"poor\", \"terrible\", \"awful\", \"hate\", \"sad\"]\n",
    "\n",
    "# Sample dataset (replace with your own dataset)\n",
    "documents = [\n",
    "    \"I love this movie, it's excellent!\",\n",
    "    \"This restaurant is awful, the food is terrible.\",\n",
    "    \"The weather today is great!\",\n",
    "    \"The customer service was bad, I'm never going back.\",\n",
    "    \"I'm happy with my new phone, it's great!\",\n",
    "    \"The performance of the stock market was poor today.\",\n",
    "    \"I hate waiting in long lines.\",\n",
    "    \"The vacation was awesome, I had a great time.\",\n",
    "    \"The book was sad, it made me cry.\",\n",
    "    \"The team did an excellent job, I'm impressed.\"\n",
    "]\n",
    "labels = [1, 0, 1, 0, 1, 0, 0, 1, 0, 1]  # 1 for positive, 0 for negative\n",
    "\n",
    "# Feature extraction using CountVectorizer\n",
    "vectorizer = CountVectorizer(vocabulary=positive_words+negative_words)\n",
    "X = vectorizer.fit_transform(documents)\n",
    "y = np.array(labels)\n",
    "\n",
    "# Splitting the dataset into training and testing sets\n",
    "X_train, X_test, y_train, y_test = train_test_split(X, y, test_size=0.2, random_state=42)\n",
    "\n",
    "# Training the Logistic Regression model\n",
    "model = LogisticRegression()\n",
    "model.fit(X_train, y_train)\n",
    "\n",
    "# Predicting on the test set\n",
    "y_pred = model.predict(X_test)\n",
    "\n",
    "# Calculating accuracy\n",
    "accuracy = accuracy_score(y_test, y_pred)\n",
    "print(\"Accuracy:\", accuracy)\n",
    "\n",
    "# Example prediction\n",
    "new_document = \"This movie is good, I enjoyed it.\"\n",
    "new_document_vec = vectorizer.transform([new_document])\n",
    "prediction = model.predict(new_document_vec)[0]\n",
    "print(\"Predicted sentiment:\", \"Positive\" if prediction == 1 else \"Negative\")\n"
   ]
  }
 ],
 "metadata": {
  "kernelspec": {
   "display_name": "Python 3 (ipykernel)",
   "language": "python",
   "name": "python3"
  },
  "language_info": {
   "codemirror_mode": {
    "name": "ipython",
    "version": 3
   },
   "file_extension": ".py",
   "mimetype": "text/x-python",
   "name": "python",
   "nbconvert_exporter": "python",
   "pygments_lexer": "ipython3",
   "version": "3.9.7"
  }
 },
 "nbformat": 4,
 "nbformat_minor": 5
}
